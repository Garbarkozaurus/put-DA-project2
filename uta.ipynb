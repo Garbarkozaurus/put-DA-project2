{
 "cells": [
  {
   "cell_type": "code",
   "execution_count": 31,
   "metadata": {},
   "outputs": [],
   "source": [
    "from pulp import *\n",
    "import pandas as pd\n",
    "from typing import List, Tuple"
   ]
  },
  {
   "cell_type": "code",
   "execution_count": 32,
   "metadata": {},
   "outputs": [],
   "source": [
    "alternatives = pd.read_csv(\"./data/UTA_milosz_alternatives.csv\")\n",
    "criteria = pd.read_csv(\"./data/UTA_milosz_criteria.csv\")"
   ]
  },
  {
   "cell_type": "code",
   "execution_count": 33,
   "metadata": {},
   "outputs": [
    {
     "data": {
      "text/html": [
       "<div>\n",
       "<style scoped>\n",
       "    .dataframe tbody tr th:only-of-type {\n",
       "        vertical-align: middle;\n",
       "    }\n",
       "\n",
       "    .dataframe tbody tr th {\n",
       "        vertical-align: top;\n",
       "    }\n",
       "\n",
       "    .dataframe thead th {\n",
       "        text-align: right;\n",
       "    }\n",
       "</style>\n",
       "<table border=\"1\" class=\"dataframe\">\n",
       "  <thead>\n",
       "    <tr style=\"text-align: right;\">\n",
       "      <th></th>\n",
       "      <th>name</th>\n",
       "      <th>experience</th>\n",
       "      <th>qualities</th>\n",
       "      <th>expectation</th>\n",
       "    </tr>\n",
       "  </thead>\n",
       "  <tbody>\n",
       "    <tr>\n",
       "      <th>0</th>\n",
       "      <td>A</td>\n",
       "      <td>6</td>\n",
       "      <td>4</td>\n",
       "      <td>12.5</td>\n",
       "    </tr>\n",
       "    <tr>\n",
       "      <th>1</th>\n",
       "      <td>B</td>\n",
       "      <td>5</td>\n",
       "      <td>0</td>\n",
       "      <td>10.0</td>\n",
       "    </tr>\n",
       "    <tr>\n",
       "      <th>2</th>\n",
       "      <td>C</td>\n",
       "      <td>7</td>\n",
       "      <td>8</td>\n",
       "      <td>13.0</td>\n",
       "    </tr>\n",
       "    <tr>\n",
       "      <th>3</th>\n",
       "      <td>D</td>\n",
       "      <td>5</td>\n",
       "      <td>2</td>\n",
       "      <td>14.5</td>\n",
       "    </tr>\n",
       "    <tr>\n",
       "      <th>4</th>\n",
       "      <td>E</td>\n",
       "      <td>10</td>\n",
       "      <td>5</td>\n",
       "      <td>15.0</td>\n",
       "    </tr>\n",
       "    <tr>\n",
       "      <th>5</th>\n",
       "      <td>F</td>\n",
       "      <td>9</td>\n",
       "      <td>9</td>\n",
       "      <td>14.0</td>\n",
       "    </tr>\n",
       "    <tr>\n",
       "      <th>6</th>\n",
       "      <td>G</td>\n",
       "      <td>3</td>\n",
       "      <td>3</td>\n",
       "      <td>10.5</td>\n",
       "    </tr>\n",
       "    <tr>\n",
       "      <th>7</th>\n",
       "      <td>H</td>\n",
       "      <td>1</td>\n",
       "      <td>7</td>\n",
       "      <td>12.0</td>\n",
       "    </tr>\n",
       "    <tr>\n",
       "      <th>8</th>\n",
       "      <td>I</td>\n",
       "      <td>0</td>\n",
       "      <td>10</td>\n",
       "      <td>12.5</td>\n",
       "    </tr>\n",
       "    <tr>\n",
       "      <th>9</th>\n",
       "      <td>J</td>\n",
       "      <td>2</td>\n",
       "      <td>5</td>\n",
       "      <td>11.5</td>\n",
       "    </tr>\n",
       "  </tbody>\n",
       "</table>\n",
       "</div>"
      ],
      "text/plain": [
       "  name  experience  qualities  expectation\n",
       "0    A           6          4         12.5\n",
       "1    B           5          0         10.0\n",
       "2    C           7          8         13.0\n",
       "3    D           5          2         14.5\n",
       "4    E          10          5         15.0\n",
       "5    F           9          9         14.0\n",
       "6    G           3          3         10.5\n",
       "7    H           1          7         12.0\n",
       "8    I           0         10         12.5\n",
       "9    J           2          5         11.5"
      ]
     },
     "execution_count": 33,
     "metadata": {},
     "output_type": "execute_result"
    }
   ],
   "source": [
    "alternatives"
   ]
  },
  {
   "cell_type": "code",
   "execution_count": 34,
   "metadata": {},
   "outputs": [
    {
     "data": {
      "text/html": [
       "<div>\n",
       "<style scoped>\n",
       "    .dataframe tbody tr th:only-of-type {\n",
       "        vertical-align: middle;\n",
       "    }\n",
       "\n",
       "    .dataframe tbody tr th {\n",
       "        vertical-align: top;\n",
       "    }\n",
       "\n",
       "    .dataframe thead th {\n",
       "        text-align: right;\n",
       "    }\n",
       "</style>\n",
       "<table border=\"1\" class=\"dataframe\">\n",
       "  <thead>\n",
       "    <tr style=\"text-align: right;\">\n",
       "      <th></th>\n",
       "      <th>criterion_name</th>\n",
       "      <th>criterion_type</th>\n",
       "      <th>alpha</th>\n",
       "      <th>beta</th>\n",
       "      <th>weight</th>\n",
       "    </tr>\n",
       "  </thead>\n",
       "  <tbody>\n",
       "    <tr>\n",
       "      <th>0</th>\n",
       "      <td>experience</td>\n",
       "      <td>gain</td>\n",
       "      <td>0.0</td>\n",
       "      <td>10</td>\n",
       "      <td>8</td>\n",
       "    </tr>\n",
       "    <tr>\n",
       "      <th>1</th>\n",
       "      <td>qualities</td>\n",
       "      <td>gain</td>\n",
       "      <td>0.0</td>\n",
       "      <td>10</td>\n",
       "      <td>5</td>\n",
       "    </tr>\n",
       "    <tr>\n",
       "      <th>2</th>\n",
       "      <td>expectation</td>\n",
       "      <td>cost</td>\n",
       "      <td>NaN</td>\n",
       "      <td>0</td>\n",
       "      <td>7</td>\n",
       "    </tr>\n",
       "  </tbody>\n",
       "</table>\n",
       "</div>"
      ],
      "text/plain": [
       "  criterion_name criterion_type  alpha  beta  weight\n",
       "0     experience           gain    0.0    10       8\n",
       "1      qualities           gain    0.0    10       5\n",
       "2    expectation           cost    NaN     0       7"
      ]
     },
     "execution_count": 34,
     "metadata": {},
     "output_type": "execute_result"
    }
   ],
   "source": [
    "criteria"
   ]
  },
  {
   "cell_type": "code",
   "execution_count": 35,
   "metadata": {},
   "outputs": [
    {
     "data": {
      "text/html": [
       "<div>\n",
       "<style scoped>\n",
       "    .dataframe tbody tr th:only-of-type {\n",
       "        vertical-align: middle;\n",
       "    }\n",
       "\n",
       "    .dataframe tbody tr th {\n",
       "        vertical-align: top;\n",
       "    }\n",
       "\n",
       "    .dataframe thead th {\n",
       "        text-align: right;\n",
       "    }\n",
       "</style>\n",
       "<table border=\"1\" class=\"dataframe\">\n",
       "  <thead>\n",
       "    <tr style=\"text-align: right;\">\n",
       "      <th></th>\n",
       "      <th>criterion_name</th>\n",
       "      <th>criterion_type</th>\n",
       "      <th>alpha</th>\n",
       "      <th>beta</th>\n",
       "      <th>weight</th>\n",
       "    </tr>\n",
       "  </thead>\n",
       "  <tbody>\n",
       "    <tr>\n",
       "      <th>0</th>\n",
       "      <td>experience</td>\n",
       "      <td>gain</td>\n",
       "      <td>0.0</td>\n",
       "      <td>10</td>\n",
       "      <td>0.40</td>\n",
       "    </tr>\n",
       "    <tr>\n",
       "      <th>1</th>\n",
       "      <td>qualities</td>\n",
       "      <td>gain</td>\n",
       "      <td>0.0</td>\n",
       "      <td>10</td>\n",
       "      <td>0.25</td>\n",
       "    </tr>\n",
       "    <tr>\n",
       "      <th>2</th>\n",
       "      <td>expectation</td>\n",
       "      <td>cost</td>\n",
       "      <td>NaN</td>\n",
       "      <td>0</td>\n",
       "      <td>0.35</td>\n",
       "    </tr>\n",
       "  </tbody>\n",
       "</table>\n",
       "</div>"
      ],
      "text/plain": [
       "  criterion_name criterion_type  alpha  beta  weight\n",
       "0     experience           gain    0.0    10    0.40\n",
       "1      qualities           gain    0.0    10    0.25\n",
       "2    expectation           cost    NaN     0    0.35"
      ]
     },
     "execution_count": 35,
     "metadata": {},
     "output_type": "execute_result"
    }
   ],
   "source": [
    "criteria[\"weight\"] /= sum(criteria[\"weight\"])\n",
    "criteria"
   ]
  },
  {
   "cell_type": "code",
   "execution_count": 36,
   "metadata": {},
   "outputs": [],
   "source": [
    "\n",
    "def fill_alpha_beta(alternatives: pd.DataFrame, criteria: pd.DataFrame) -> pd.DataFrame:\n",
    "    \"\"\"\n",
    "    If any criteria don't have the values for the worst (alpha) or best (beta) performance,\n",
    "    make them equal to the worst/best performances attained by the alternatives on this criterion\n",
    "    \"\"\"\n",
    "    for idx, criterion in criteria.iterrows():\n",
    "        if pd.isnull(criterion[\"alpha\"]):\n",
    "            if criterion[\"criterion_type\"] == \"gain\":\n",
    "                criterion[\"alpha\"] = min(alternatives[criterion[\"criterion_name\"]])\n",
    "            if criterion[\"criterion_type\"] == \"cost\":\n",
    "                print(criterion[\"criterion_name\"], max(alternatives[criterion[\"criterion_name\"]]))\n",
    "                criterion[\"alpha\"] = max(alternatives[criterion[\"criterion_name\"]])\n",
    "\n",
    "        if pd.isnull(criterion[\"beta\"]):\n",
    "            if criterion[\"criterion_type\"] == \"gain\":\n",
    "                criterion[\"beta\"] = max(alternatives[criterion[\"criterion_name\"]])\n",
    "            if criterion[\"criterion_type\"] == \"cost\":\n",
    "                criterion[\"beta\"] = min(alternatives[criterion[\"criterion_name\"]])\n",
    "        criteria.loc[idx] = criterion"
   ]
  },
  {
   "cell_type": "code",
   "execution_count": 37,
   "metadata": {},
   "outputs": [
    {
     "name": "stdout",
     "output_type": "stream",
     "text": [
      "expectation 15.0\n"
     ]
    },
    {
     "data": {
      "text/html": [
       "<div>\n",
       "<style scoped>\n",
       "    .dataframe tbody tr th:only-of-type {\n",
       "        vertical-align: middle;\n",
       "    }\n",
       "\n",
       "    .dataframe tbody tr th {\n",
       "        vertical-align: top;\n",
       "    }\n",
       "\n",
       "    .dataframe thead th {\n",
       "        text-align: right;\n",
       "    }\n",
       "</style>\n",
       "<table border=\"1\" class=\"dataframe\">\n",
       "  <thead>\n",
       "    <tr style=\"text-align: right;\">\n",
       "      <th></th>\n",
       "      <th>criterion_name</th>\n",
       "      <th>criterion_type</th>\n",
       "      <th>alpha</th>\n",
       "      <th>beta</th>\n",
       "      <th>weight</th>\n",
       "    </tr>\n",
       "  </thead>\n",
       "  <tbody>\n",
       "    <tr>\n",
       "      <th>0</th>\n",
       "      <td>experience</td>\n",
       "      <td>gain</td>\n",
       "      <td>0.0</td>\n",
       "      <td>10</td>\n",
       "      <td>0.40</td>\n",
       "    </tr>\n",
       "    <tr>\n",
       "      <th>1</th>\n",
       "      <td>qualities</td>\n",
       "      <td>gain</td>\n",
       "      <td>0.0</td>\n",
       "      <td>10</td>\n",
       "      <td>0.25</td>\n",
       "    </tr>\n",
       "    <tr>\n",
       "      <th>2</th>\n",
       "      <td>expectation</td>\n",
       "      <td>cost</td>\n",
       "      <td>15.0</td>\n",
       "      <td>0</td>\n",
       "      <td>0.35</td>\n",
       "    </tr>\n",
       "  </tbody>\n",
       "</table>\n",
       "</div>"
      ],
      "text/plain": [
       "  criterion_name criterion_type  alpha  beta  weight\n",
       "0     experience           gain    0.0    10    0.40\n",
       "1      qualities           gain    0.0    10    0.25\n",
       "2    expectation           cost   15.0     0    0.35"
      ]
     },
     "execution_count": 37,
     "metadata": {},
     "output_type": "execute_result"
    }
   ],
   "source": [
    "fill_alpha_beta(alternatives, criteria)\n",
    "criteria"
   ]
  },
  {
   "attachments": {},
   "cell_type": "markdown",
   "metadata": {},
   "source": [
    "\n",
    "Expected preferences from project1:\n",
    "- Path of Exile > Last Epoch\n",
    "- Divinity Original Sin 2 > Gears Tactics\n",
    "- Portal 2 > Superliminal\n",
    "- Slay the Spire > Rogue Legacy 2\n",
    "\n",
    "Additional comparisions:\n",
    "- Terraria > Elden Ring\n",
    "- Slay the Spire > Nebuchadnezzar\n",
    "- Elden Ring > Nebuchadnezzar\n",
    "- Nebuchadnezzar > Terraria (to introduce inconsistency)\n"
   ]
  },
  {
   "cell_type": "code",
   "execution_count": 172,
   "metadata": {},
   "outputs": [],
   "source": [
    "def ordinal_regression_model(alternatives: pd.DataFrame, criteria: pd.DataFrame, comparisions: List[Tuple[str, str, str]], num_breakpoints: int = 0) -> LpProblem:\n",
    "    alternative_names = alternatives.iloc[:, 0].tolist()\n",
    "    criteria_names = criteria.iloc[:, 0].tolist()\n",
    "    model = LpProblem(name=\"Ordinal Regression\", sense=LpMinimize)\n",
    "\n",
    "    # definig the objective function - sum of under- and over-estimation errors\n",
    "    over_error_variables = LpVariable.dicts(\"over\", alternative_names, lowBound=0)\n",
    "    under_error_variables = LpVariable.dicts(\"under\", alternative_names, lowBound=0)\n",
    "    model += lpSum([x for x in list(under_error_variables.values())+list(over_error_variables.values())])\n",
    "\n",
    "    # dictionary containing variables corresponding to values of marginal preference functions\n",
    "    # at all characteristic points for every criterion\n",
    "    characteristic_p_dict = dict([(name, [None] * (num_breakpoints+2)) for name in criteria_names])\n",
    "\n",
    "    # all worst performances must be 0\n",
    "    # the sum of best performances must be equal 1\n",
    "    beta_variables = []\n",
    "    for _, criterion in criteria.iterrows():\n",
    "        criterion_name = criterion[\"criterion_name\"]\n",
    "        criterion_type = criterion[\"criterion_type\"]\n",
    "        u_a = LpVariable(name=f\"{criterion_name}_u_a\", lowBound=0, upBound=0)\n",
    "        # we assume that weights are normalised already\n",
    "        u_b = LpVariable(name=f\"{criterion_name}_u_b\", lowBound=criterion[\"weight\"], upBound=criterion[\"weight\"])\n",
    "        beta_variables.append(u_b)\n",
    "        model += (u_a == 0, f\"u_a_{criterion_name}\")\n",
    "        if criterion_type == \"gain\":\n",
    "            characteristic_p_dict[criterion_name][0] = u_a\n",
    "            characteristic_p_dict[criterion_name][-1] = u_b\n",
    "        if criterion_type == \"cost\":\n",
    "            characteristic_p_dict[criterion_name][0] = u_b\n",
    "            characteristic_p_dict[criterion_name][-1] = u_a\n",
    "\n",
    "\n",
    "    model += LpConstraint(lpSum(beta_variables), sense=LpConstraintEQ, name=\"Sum of u_i(\\Beta) = 1\", rhs=1)\n",
    "\n",
    "    # add monotonicity constraints for breakpoints\n",
    "    for _, criterion in criteria.iterrows():\n",
    "        criterion_type = criterion[\"criterion_type\"]\n",
    "        criterion_name = criterion[\"criterion_name\"]\n",
    "\n",
    "        # the \"breakpoint\" variables indicate the value of marginal value function at the breakpoint\n",
    "        if criterion_type == \"cost\":\n",
    "            previous_breakpoint = criterion[\"weight\"]\n",
    "            for i in range(num_breakpoints):\n",
    "                breakpoint = LpVariable(name=f\"{criterion_name}_breakpoint_{i+1}\", lowBound=0)\n",
    "                # +1 in index, because 0th is for the first characteristic point\n",
    "                characteristic_p_dict[criterion_name][i+1] = breakpoint\n",
    "                # for cost type, the marginal value function must be NON-INcreasing\n",
    "                # as such, the value at the next break point must be <= the previous\n",
    "                model += LpConstraint(previous_breakpoint-breakpoint, sense=LpConstraintGE, name=f\"{criterion_name}_monotonicity_{i+1}\")\n",
    "                previous_breakpoint = breakpoint\n",
    "\n",
    "        if criterion_type == \"gain\":\n",
    "            previous_breakpoint = 0\n",
    "            for i in range(num_breakpoints):\n",
    "                breakpoint = LpVariable(name=f\"{criterion_name}_breakpoint_{i+1}\", lowBound=0)\n",
    "                characteristic_p_dict[criterion_name][i+1] = breakpoint\n",
    "                # for gain type, the function should be NON-DEcreasing\n",
    "                model += LpConstraint(breakpoint-previous_breakpoint, sense=LpConstraintGE, name=f\"{criterion_name}_monotonicity_{i+1}\")\n",
    "                previous_breakpoint = breakpoint\n",
    "    # pairwise comparisions\n",
    "    sense_dict = dict([(\">\", LpConstraintGE), (\"=\", LpConstraintEQ), (\"<\", LpConstraintLE)])\n",
    "    coeffs = [1, -1, 1]\n",
    "    # creating a dictionary of comprehensive value variables to avoid duplicates\n",
    "    # for every performance of every alternative, its performance relative to some breakpoint must be calculated\n",
    "    # here, the value at the breakpoint for the largest value of performance that is NOT GREATER than the alternative's is used as reference\n",
    "    U_variables = dict([(name, lpSum([])) for name in alternative_names])\n",
    "    # fraction of the range of g(a) that is spanned between two breakpoints\n",
    "    bucket_width = 1/(num_breakpoints+1)\n",
    "    for _, criterion in criteria.iterrows():\n",
    "        criterion_name = criterion[\"criterion_name\"]\n",
    "        criterion_type = criterion[\"criterion_type\"]\n",
    "        alpha = criterion[\"alpha\"]\n",
    "        beta = criterion[\"beta\"]\n",
    "        if criterion_type == \"gain\":\n",
    "            interval = beta - alpha\n",
    "            smallest_val = alpha\n",
    "        if criterion_type == \"cost\":\n",
    "            interval = alpha - beta\n",
    "            smallest_val = beta\n",
    "        for _, alternative in alternatives.iterrows():\n",
    "            alternative_name = alternative[0]\n",
    "            performance = alternative[criterion_name]\n",
    "            relative_performance = (performance - smallest_val)/interval\n",
    "            characteristic_idx = int(relative_performance/bucket_width)\n",
    "            absolute_perf_in_bucket = performance - smallest_val - bucket_width * interval * characteristic_idx\n",
    "            # if the alternative's performance on the criterion lines up with a characterisitc point\n",
    "            if absolute_perf_in_bucket == 0:\n",
    "                U_variables[alternative_name] += characteristic_p_dict[criterion_name][characteristic_idx]\n",
    "                continue\n",
    "            # otherwise, the value should be equal to the p\n",
    "            relative_perf_in_bucket = absolute_perf_in_bucket / (bucket_width * interval)\n",
    "            characteristic_p_var = characteristic_p_dict[criterion_name][characteristic_idx]\n",
    "            next_p_var = characteristic_p_dict[criterion_name][characteristic_idx+1]\n",
    "            U_variables[alternative_name] += characteristic_p_var + relative_perf_in_bucket * (next_p_var - characteristic_p_var)\n",
    "    # difference in additive value functions judged sufficient to represent strict preference\n",
    "    strict_diff = 0.001\n",
    "    for a, b, relation in comparisions:\n",
    "        a_over = over_error_variables[a]\n",
    "        a_under = under_error_variables[a]\n",
    "        b_over = over_error_variables[b]\n",
    "        b_under = under_error_variables[b]\n",
    "        U_a = U_variables[a]\n",
    "        U_b = U_variables[b]\n",
    "        print(b, U_b)\n",
    "        sense = sense_dict[relation]\n",
    "        left = lpSum([c*x for c, x in zip(coeffs, [U_a, a_over, a_under])])\n",
    "        right = lpSum([[c*x for c, x in zip(coeffs, [U_b, b_over, b_under])]])\n",
    "        # transformed to compare to a constant, because that's what PuLP wants\n",
    "        model += LpConstraint(left-right, sense=sense, name=f\"{a}{relation}{b}\", rhs=strict_diff)\n",
    "\n",
    "    return model\n"
   ]
  },
  {
   "cell_type": "code",
   "execution_count": 199,
   "metadata": {},
   "outputs": [
    {
     "name": "stdout",
     "output_type": "stream",
     "text": [
      "B expectation_breakpoint_2 + 0.4999999999999999*experience_breakpoint_1 + 0.5000000000000001*experience_breakpoint_2 + qualities_u_a\n",
      "I 0.5*expectation_breakpoint_2 + 0.5*expectation_u_a + experience_u_a + qualities_u_b\n"
     ]
    },
    {
     "name": "stderr",
     "output_type": "stream",
     "text": [
      "c:\\Users\\marci\\AppData\\Local\\Programs\\Python\\Python310\\lib\\site-packages\\pulp\\pulp.py:1352: UserWarning: Spaces are not permitted in the name. Converted to '_'\n",
      "  warnings.warn(\"Spaces are not permitted in the name. Converted to '_'\")\n"
     ]
    },
    {
     "data": {
      "text/plain": [
       "Ordinal_Regression:\n",
       "MINIMIZE\n",
       "1*over_A + 1*over_B + 1*over_C + 1*over_D + 1*over_E + 1*over_F + 1*over_G + 1*over_H + 1*over_I + 1*over_J + 1*under_A + 1*under_B + 1*under_C + 1*under_D + 1*under_E + 1*under_F + 1*under_G + 1*under_H + 1*under_I + 1*under_J + 0\n",
       "SUBJECT TO\n",
       "u_a_experience: experience_u_a = 0\n",
       "\n",
       "u_a_qualities: qualities_u_a = 0\n",
       "\n",
       "u_a_expectation: expectation_u_a = 0\n",
       "\n",
       "Sum_of_u_i(\\Beta)_=_1: expectation_u_b + experience_u_b + qualities_u_b = 1\n",
       "\n",
       "experience_monotonicity_1: experience_breakpoint_1 >= 0\n",
       "\n",
       "experience_monotonicity_2: - experience_breakpoint_1 + experience_breakpoint_2\n",
       " >= 0\n",
       "\n",
       "qualities_monotonicity_1: qualities_breakpoint_1 >= 0\n",
       "\n",
       "qualities_monotonicity_2: - qualities_breakpoint_1 + qualities_breakpoint_2\n",
       " >= 0\n",
       "\n",
       "expectation_monotonicity_1: - expectation_breakpoint_1 >= -0.35\n",
       "\n",
       "expectation_monotonicity_2: expectation_breakpoint_1\n",
       " - expectation_breakpoint_2 >= 0\n",
       "\n",
       "E>B: - expectation_breakpoint_2 + expectation_u_a\n",
       " - 0.5 experience_breakpoint_1 - 0.5 experience_breakpoint_2 + experience_u_b\n",
       " + over_B - over_E + 0.5 qualities_breakpoint_1 + 0.5 qualities_breakpoint_2\n",
       " - qualities_u_a - under_B + under_E >= 0.001\n",
       "\n",
       "B>I: 0.5 expectation_breakpoint_2 - 0.5 expectation_u_a\n",
       " + 0.5 experience_breakpoint_1 + 0.5 experience_breakpoint_2 - experience_u_a\n",
       " - over_B + over_I + qualities_u_a - qualities_u_b + under_B - under_I\n",
       " >= 0.001\n",
       "\n",
       "VARIABLES\n",
       "expectation_breakpoint_1 Continuous\n",
       "expectation_breakpoint_2 Continuous\n",
       "expectation_u_a = 0 Continuous\n",
       "expectation_u_b = 0.35 Continuous\n",
       "experience_breakpoint_1 Continuous\n",
       "experience_breakpoint_2 Continuous\n",
       "experience_u_a = 0 Continuous\n",
       "experience_u_b = 0.4 Continuous\n",
       "over_A Continuous\n",
       "over_B Continuous\n",
       "over_C Continuous\n",
       "over_D Continuous\n",
       "over_E Continuous\n",
       "over_F Continuous\n",
       "over_G Continuous\n",
       "over_H Continuous\n",
       "over_I Continuous\n",
       "over_J Continuous\n",
       "qualities_breakpoint_1 Continuous\n",
       "qualities_breakpoint_2 Continuous\n",
       "qualities_u_a = 0 Continuous\n",
       "qualities_u_b = 0.25 Continuous\n",
       "under_A Continuous\n",
       "under_B Continuous\n",
       "under_C Continuous\n",
       "under_D Continuous\n",
       "under_E Continuous\n",
       "under_F Continuous\n",
       "under_G Continuous\n",
       "under_H Continuous\n",
       "under_I Continuous\n",
       "under_J Continuous"
      ]
     },
     "execution_count": 199,
     "metadata": {},
     "output_type": "execute_result"
    }
   ],
   "source": [
    "model = ordinal_regression_model(alternatives, criteria, [(\"E\", \"B\", \">\"), (\"B\", \"I\", \">\")], 2)\n",
    "model"
   ]
  },
  {
   "cell_type": "code",
   "execution_count": 200,
   "metadata": {},
   "outputs": [
    {
     "name": "stdout",
     "output_type": "stream",
     "text": [
      "status: 1, Optimal\n",
      "Objective function value: 0.0\n"
     ]
    }
   ],
   "source": [
    "status = model.solve()\n",
    "print(f\"status: {model.status}, {LpStatus[model.status]}\")\n",
    "print(f\"Objective function value: {model.objective.value()}\")"
   ]
  },
  {
   "cell_type": "code",
   "execution_count": 201,
   "metadata": {},
   "outputs": [
    {
     "name": "stdout",
     "output_type": "stream",
     "text": [
      "expectation_breakpoint_1 0.35\n",
      "expectation_breakpoint_2 0.0\n",
      "expectation_u_a 0.0\n",
      "expectation_u_b 0.35\n",
      "experience_breakpoint_1 0.251\n",
      "experience_breakpoint_2 0.251\n",
      "experience_u_a 0.0\n",
      "experience_u_b 0.4\n",
      "over_A 0.0\n",
      "over_B 0.0\n",
      "over_C 0.0\n",
      "over_D 0.0\n",
      "over_E 0.0\n",
      "over_F 0.0\n",
      "over_G 0.0\n",
      "over_H 0.0\n",
      "over_I 0.0\n",
      "over_J 0.0\n",
      "qualities_breakpoint_1 0.0\n",
      "qualities_breakpoint_2 0.0\n",
      "qualities_u_a 0.0\n",
      "qualities_u_b 0.25\n",
      "under_A 0.0\n",
      "under_B 0.0\n",
      "under_C 0.0\n",
      "under_D 0.0\n",
      "under_E 0.0\n",
      "under_F 0.0\n",
      "under_G 0.0\n",
      "under_H 0.0\n",
      "under_I 0.0\n",
      "under_J 0.0\n"
     ]
    }
   ],
   "source": [
    "for var in model.variables():\n",
    "    print(var.name, var.value())"
   ]
  },
  {
   "cell_type": "code",
   "execution_count": 202,
   "metadata": {},
   "outputs": [],
   "source": [
    "import matplotlib.pyplot as plt\n",
    "import re"
   ]
  },
  {
   "cell_type": "code",
   "execution_count": 203,
   "metadata": {},
   "outputs": [
    {
     "data": {
      "text/plain": [
       "list"
      ]
     },
     "execution_count": 203,
     "metadata": {},
     "output_type": "execute_result"
    }
   ],
   "source": [
    "type(model.variables())"
   ]
  },
  {
   "cell_type": "code",
   "execution_count": 269,
   "metadata": {},
   "outputs": [],
   "source": [
    "# WARNING: changing naming convenctions in the model breaks the function!!!\n",
    "def draw_marginal_value_functions(model: LpProblem, criteria: pd.DataFrame) -> None:\n",
    "    regular_expressions = []\n",
    "    criteria_names = criteria.iloc[:, 0].tolist()\n",
    "    criteria_var_dict = dict([(name, []) for name in criteria_names])\n",
    "    for name in criteria_names:\n",
    "        regex = f\"({name}_breakpoint_\\d+)|({name}_u_a)|({name}_u_b)\"\n",
    "        regex = re.compile(regex)\n",
    "        regular_expressions.append(regex)\n",
    "    for var in model.variables():\n",
    "        criterion_name = None\n",
    "        for regex in regular_expressions:\n",
    "            if not re.search(regex, var.name):\n",
    "                continue\n",
    "            # get everything before the last 2 underscores\n",
    "            criterion_name = \"_\".join(var.name.split('_')[:-2])\n",
    "            criteria_var_dict[criterion_name].append(var)\n",
    "            break\n",
    "    for _, criterion in criteria.iterrows():\n",
    "        criterion_name = criterion[\"criterion_name\"]\n",
    "        criterion_type = criterion[\"criterion_type\"]\n",
    "        alpha = criterion[\"alpha\"]\n",
    "        beta = criterion[\"beta\"]\n",
    "        vars = criteria_var_dict[criterion_name]\n",
    "        num_breakpoints = len(vars)-2\n",
    "        interval = None\n",
    "        if criterion_type == \"gain\":\n",
    "            interval = beta - alpha\n",
    "            vars.sort(key = lambda x:  x.name[-4:])\n",
    "            # shift list to the left by 1\n",
    "            vars.append(vars.pop(0))\n",
    "            # swap u(b) with u(a)\n",
    "            vars[0], vars[-1] = vars[-1], vars[0]\n",
    "        if criterion_type == \"cost\":\n",
    "            interval = alpha - beta\n",
    "            vars.sort(key = lambda x: x.name[-4:])\n",
    "            # shift list to the left by 1\n",
    "            vars.append(vars.pop(0))\n",
    "        gs = []\n",
    "        vals = []\n",
    "        for idx, var in enumerate(vars):\n",
    "            g = min(alpha, beta) + idx * (interval/(num_breakpoints+1))\n",
    "            gs.append(g)\n",
    "            vals.append(var.value())\n",
    "        plt.plot(gs, vals, \"-o\")\n",
    "        plt.xticks(gs)\n",
    "        plt.ylim(-0.001, max(criteria[\"weight\"]))\n",
    "        plt.xlabel(f\"Performance on {criterion_name}\")\n",
    "        plt.ylabel(f\"Value function\")\n",
    "        plt.show()"
   ]
  },
  {
   "cell_type": "code",
   "execution_count": 270,
   "metadata": {},
   "outputs": [
    {
     "data": {
      "image/png": "[encoded data removed]",
      "text/plain": [
       "<Figure size 432x288 with 1 Axes>"
      ]
     },
     "metadata": {
      "needs_background": "light"
     },
     "output_type": "display_data"
    },
    {
     "data": {
      "image/png": "[encoded data removed]",
      "text/plain": [
       "<Figure size 432x288 with 1 Axes>"
      ]
     },
     "metadata": {
      "needs_background": "light"
     },
     "output_type": "display_data"
    },
    {
     "data": {
      "image/png": "[encoded data removed]",
      "text/plain": [
       "<Figure size 432x288 with 1 Axes>"
      ]
     },
     "metadata": {
      "needs_background": "light"
     },
     "output_type": "display_data"
    }
   ],
   "source": [
    "draw_marginal_value_functions(model, criteria)"
   ]
  },
  {
   "cell_type": "code",
   "execution_count": null,
   "metadata": {},
   "outputs": [],
   "source": []
  }
 ],
 "metadata": {
  "kernelspec": {
   "display_name": "Python 3",
   "language": "python",
   "name": "python3"
  },
  "language_info": {
   "codemirror_mode": {
    "name": "ipython",
    "version": 3
   },
   "file_extension": ".py",
   "mimetype": "text/x-python",
   "name": "python",
   "nbconvert_exporter": "python",
   "pygments_lexer": "ipython3",
   "version": "3.10.9"
  },
  "orig_nbformat": 4,
  "vscode": {
   "interpreter": {
    "hash": "881fdfd94a25aa10e20db5e566f8156148d1b2639d104ac555e2327d9e425f83"
   }
  }
 },
 "nbformat": 4,
 "nbformat_minor": 2
}
